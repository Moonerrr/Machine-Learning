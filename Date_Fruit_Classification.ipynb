{
  "cells": [
    {
      "cell_type": "code",
      "execution_count": null,
      "outputs": [],
      "source": [
        "import numpy as np\n",
        "np.random.seed(42)\n",
        "\n",
        "import os\n",
        "import pandas as pd\n",
        "import matplotlib.pyplot as plt\n",
        "import seaborn as sns\n",
        "import time\n",
        "import torch\n",
        "from sklearn.model_selection import train_test_split\n",
        "from sklearn.feature_selection import SelectKBest, f_classif\n",
        "from sklearn.preprocessing import LabelEncoder, StandardScaler\n",
        "from sklearn.pipeline import Pipeline\n",
        "from sklearn.neighbors import LocalOutlierFactor\n",
        "from sklearn.ensemble import RandomForestClassifier\n",
        "from sklearn.neighbors import LocalOutlierFactor\n",
        "from sklearn.neural_network import MLPClassifier\n",
        "from sklearn.tree import DecisionTreeClassifier\n",
        "from xgboost import XGBClassifier\n",
        "from sklearn.linear_model import LogisticRegression\n",
        "from sklearn.neighbors import KNeighborsClassifier\n",
        "from sklearn.svm import SVC, LinearSVC\n",
        "from sklearn.cluster import KMeans\n",
        "from sklearn.metrics import classification_report, accuracy_score, f1_score, recall_score, precision_score, confusion_matrix\n",
        "from sklearn.model_selection import GridSearchCV, RandomizedSearchCV\n",
        "from scipy.stats import randint, uniform\n",
        "import time"
      ],
      "metadata": {
        "pycharm": {
          "name": "#%%\n"
        },
        "id": "6KZ-KSfiM88-"
      }
    },
    {
      "cell_type": "code",
      "execution_count": null,
      "outputs": [],
      "source": [
        "df = pd.read_excel('./Date_Fruit_Datasets/Date_Fruit_Datasets.xlsx')"
      ],
      "metadata": {
        "pycharm": {
          "name": "#%%\n"
        },
        "id": "TH_-VLYjM89A"
      }
    },
    {
      "cell_type": "code",
      "source": [
        "# Show the first 5 rows of the date fruit dataframe\n",
        "df.head(5)"
      ],
      "metadata": {
        "colab": {
          "base_uri": "https://localhost:8080/",
          "height": 300
        },
        "id": "K9MZQroYwSGX",
        "outputId": "ada9d0b3-97d1-4d7c-837f-687ad4b4b78a"
      },
      "execution_count": null,
      "outputs": [
        {
          "output_type": "execute_result",
          "data": {
            "text/plain": [
              "     AREA  PERIMETER  MAJOR_AXIS  MINOR_AXIS  ECCENTRICITY   EQDIASQ  \\\n",
              "0  422163   2378.908    837.8484    645.6693        0.6373  733.1539   \n",
              "1  338136   2085.144    723.8198    595.2073        0.5690  656.1464   \n",
              "2  526843   2647.394    940.7379    715.3638        0.6494  819.0222   \n",
              "3  416063   2351.210    827.9804    645.2988        0.6266  727.8378   \n",
              "4  347562   2160.354    763.9877    582.8359        0.6465  665.2291   \n",
              "\n",
              "   SOLIDITY  CONVEX_AREA  EXTENT  ASPECT_RATIO  ...  KurtosisRR  KurtosisRG  \\\n",
              "0    0.9947       424428  0.7831        1.2976  ...      3.2370      2.9574   \n",
              "1    0.9974       339014  0.7795        1.2161  ...      2.6228      2.6350   \n",
              "2    0.9962       528876  0.7657        1.3150  ...      3.7516      3.8611   \n",
              "3    0.9948       418255  0.7759        1.2831  ...      5.0401      8.6136   \n",
              "4    0.9908       350797  0.7569        1.3108  ...      2.7016      2.9761   \n",
              "\n",
              "   KurtosisRB    EntropyRR    EntropyRG    EntropyRB  ALLdaub4RR  ALLdaub4RG  \\\n",
              "0      4.2287 -59191263232 -50714214400 -39922372608     58.7255     54.9554   \n",
              "1      3.1704 -34233065472 -37462601728 -31477794816     50.0259     52.8168   \n",
              "2      4.7192 -93948354560 -74738221056 -60311207936     65.4772     59.2860   \n",
              "3      8.2618 -32074307584 -32060925952 -29575010304     43.3900     44.1259   \n",
              "4      4.4146 -39980974080 -35980042240 -25593278464     52.7743     50.9080   \n",
              "\n",
              "   ALLdaub4RB  Class  \n",
              "0     47.8400  BERHI  \n",
              "1     47.8315  BERHI  \n",
              "2     51.9378  BERHI  \n",
              "3     41.1882  BERHI  \n",
              "4     42.6666  BERHI  \n",
              "\n",
              "[5 rows x 35 columns]"
            ],
            "text/html": [
              "\n",
              "  <div id=\"df-8f113be6-2925-4861-aece-c37ee2c60565\">\n",
              "    <div class=\"colab-df-container\">\n",
              "      <div>\n",
              "<style scoped>\n",
              "    .dataframe tbody tr th:only-of-type {\n",
              "        vertical-align: middle;\n",
              "    }\n",
              "\n",
              "    .dataframe tbody tr th {\n",
              "        vertical-align: top;\n",
              "    }\n",
              "\n",
              "    .dataframe thead th {\n",
              "        text-align: right;\n",
              "    }\n",
              "</style>\n",
              "<table border=\"1\" class=\"dataframe\">\n",
              "  <thead>\n",
              "    <tr style=\"text-align: right;\">\n",
              "      <th></th>\n",
              "      <th>AREA</th>\n",
              "      <th>PERIMETER</th>\n",
              "      <th>MAJOR_AXIS</th>\n",
              "      <th>MINOR_AXIS</th>\n",
              "      <th>ECCENTRICITY</th>\n",
              "      <th>EQDIASQ</th>\n",
              "      <th>SOLIDITY</th>\n",
              "      <th>CONVEX_AREA</th>\n",
              "      <th>EXTENT</th>\n",
              "      <th>ASPECT_RATIO</th>\n",
              "      <th>...</th>\n",
              "      <th>KurtosisRR</th>\n",
              "      <th>KurtosisRG</th>\n",
              "      <th>KurtosisRB</th>\n",
              "      <th>EntropyRR</th>\n",
              "      <th>EntropyRG</th>\n",
              "      <th>EntropyRB</th>\n",
              "      <th>ALLdaub4RR</th>\n",
              "      <th>ALLdaub4RG</th>\n",
              "      <th>ALLdaub4RB</th>\n",
              "      <th>Class</th>\n",
              "    </tr>\n",
              "  </thead>\n",
              "  <tbody>\n",
              "    <tr>\n",
              "      <th>0</th>\n",
              "      <td>422163</td>\n",
              "      <td>2378.908</td>\n",
              "      <td>837.8484</td>\n",
              "      <td>645.6693</td>\n",
              "      <td>0.6373</td>\n",
              "      <td>733.1539</td>\n",
              "      <td>0.9947</td>\n",
              "      <td>424428</td>\n",
              "      <td>0.7831</td>\n",
              "      <td>1.2976</td>\n",
              "      <td>...</td>\n",
              "      <td>3.2370</td>\n",
              "      <td>2.9574</td>\n",
              "      <td>4.2287</td>\n",
              "      <td>-59191263232</td>\n",
              "      <td>-50714214400</td>\n",
              "      <td>-39922372608</td>\n",
              "      <td>58.7255</td>\n",
              "      <td>54.9554</td>\n",
              "      <td>47.8400</td>\n",
              "      <td>BERHI</td>\n",
              "    </tr>\n",
              "    <tr>\n",
              "      <th>1</th>\n",
              "      <td>338136</td>\n",
              "      <td>2085.144</td>\n",
              "      <td>723.8198</td>\n",
              "      <td>595.2073</td>\n",
              "      <td>0.5690</td>\n",
              "      <td>656.1464</td>\n",
              "      <td>0.9974</td>\n",
              "      <td>339014</td>\n",
              "      <td>0.7795</td>\n",
              "      <td>1.2161</td>\n",
              "      <td>...</td>\n",
              "      <td>2.6228</td>\n",
              "      <td>2.6350</td>\n",
              "      <td>3.1704</td>\n",
              "      <td>-34233065472</td>\n",
              "      <td>-37462601728</td>\n",
              "      <td>-31477794816</td>\n",
              "      <td>50.0259</td>\n",
              "      <td>52.8168</td>\n",
              "      <td>47.8315</td>\n",
              "      <td>BERHI</td>\n",
              "    </tr>\n",
              "    <tr>\n",
              "      <th>2</th>\n",
              "      <td>526843</td>\n",
              "      <td>2647.394</td>\n",
              "      <td>940.7379</td>\n",
              "      <td>715.3638</td>\n",
              "      <td>0.6494</td>\n",
              "      <td>819.0222</td>\n",
              "      <td>0.9962</td>\n",
              "      <td>528876</td>\n",
              "      <td>0.7657</td>\n",
              "      <td>1.3150</td>\n",
              "      <td>...</td>\n",
              "      <td>3.7516</td>\n",
              "      <td>3.8611</td>\n",
              "      <td>4.7192</td>\n",
              "      <td>-93948354560</td>\n",
              "      <td>-74738221056</td>\n",
              "      <td>-60311207936</td>\n",
              "      <td>65.4772</td>\n",
              "      <td>59.2860</td>\n",
              "      <td>51.9378</td>\n",
              "      <td>BERHI</td>\n",
              "    </tr>\n",
              "    <tr>\n",
              "      <th>3</th>\n",
              "      <td>416063</td>\n",
              "      <td>2351.210</td>\n",
              "      <td>827.9804</td>\n",
              "      <td>645.2988</td>\n",
              "      <td>0.6266</td>\n",
              "      <td>727.8378</td>\n",
              "      <td>0.9948</td>\n",
              "      <td>418255</td>\n",
              "      <td>0.7759</td>\n",
              "      <td>1.2831</td>\n",
              "      <td>...</td>\n",
              "      <td>5.0401</td>\n",
              "      <td>8.6136</td>\n",
              "      <td>8.2618</td>\n",
              "      <td>-32074307584</td>\n",
              "      <td>-32060925952</td>\n",
              "      <td>-29575010304</td>\n",
              "      <td>43.3900</td>\n",
              "      <td>44.1259</td>\n",
              "      <td>41.1882</td>\n",
              "      <td>BERHI</td>\n",
              "    </tr>\n",
              "    <tr>\n",
              "      <th>4</th>\n",
              "      <td>347562</td>\n",
              "      <td>2160.354</td>\n",
              "      <td>763.9877</td>\n",
              "      <td>582.8359</td>\n",
              "      <td>0.6465</td>\n",
              "      <td>665.2291</td>\n",
              "      <td>0.9908</td>\n",
              "      <td>350797</td>\n",
              "      <td>0.7569</td>\n",
              "      <td>1.3108</td>\n",
              "      <td>...</td>\n",
              "      <td>2.7016</td>\n",
              "      <td>2.9761</td>\n",
              "      <td>4.4146</td>\n",
              "      <td>-39980974080</td>\n",
              "      <td>-35980042240</td>\n",
              "      <td>-25593278464</td>\n",
              "      <td>52.7743</td>\n",
              "      <td>50.9080</td>\n",
              "      <td>42.6666</td>\n",
              "      <td>BERHI</td>\n",
              "    </tr>\n",
              "  </tbody>\n",
              "</table>\n",
              "<p>5 rows × 35 columns</p>\n",
              "</div>\n",
              "      <button class=\"colab-df-convert\" onclick=\"convertToInteractive('df-8f113be6-2925-4861-aece-c37ee2c60565')\"\n",
              "              title=\"Convert this dataframe to an interactive table.\"\n",
              "              style=\"display:none;\">\n",
              "        \n",
              "  <svg xmlns=\"http://www.w3.org/2000/svg\" height=\"24px\"viewBox=\"0 0 24 24\"\n",
              "       width=\"24px\">\n",
              "    <path d=\"M0 0h24v24H0V0z\" fill=\"none\"/>\n",
              "    <path d=\"M18.56 5.44l.94 2.06.94-2.06 2.06-.94-2.06-.94-.94-2.06-.94 2.06-2.06.94zm-11 1L8.5 8.5l.94-2.06 2.06-.94-2.06-.94L8.5 2.5l-.94 2.06-2.06.94zm10 10l.94 2.06.94-2.06 2.06-.94-2.06-.94-.94-2.06-.94 2.06-2.06.94z\"/><path d=\"M17.41 7.96l-1.37-1.37c-.4-.4-.92-.59-1.43-.59-.52 0-1.04.2-1.43.59L10.3 9.45l-7.72 7.72c-.78.78-.78 2.05 0 2.83L4 21.41c.39.39.9.59 1.41.59.51 0 1.02-.2 1.41-.59l7.78-7.78 2.81-2.81c.8-.78.8-2.07 0-2.86zM5.41 20L4 18.59l7.72-7.72 1.47 1.35L5.41 20z\"/>\n",
              "  </svg>\n",
              "      </button>\n",
              "      \n",
              "  <style>\n",
              "    .colab-df-container {\n",
              "      display:flex;\n",
              "      flex-wrap:wrap;\n",
              "      gap: 12px;\n",
              "    }\n",
              "\n",
              "    .colab-df-convert {\n",
              "      background-color: #E8F0FE;\n",
              "      border: none;\n",
              "      border-radius: 50%;\n",
              "      cursor: pointer;\n",
              "      display: none;\n",
              "      fill: #1967D2;\n",
              "      height: 32px;\n",
              "      padding: 0 0 0 0;\n",
              "      width: 32px;\n",
              "    }\n",
              "\n",
              "    .colab-df-convert:hover {\n",
              "      background-color: #E2EBFA;\n",
              "      box-shadow: 0px 1px 2px rgba(60, 64, 67, 0.3), 0px 1px 3px 1px rgba(60, 64, 67, 0.15);\n",
              "      fill: #174EA6;\n",
              "    }\n",
              "\n",
              "    [theme=dark] .colab-df-convert {\n",
              "      background-color: #3B4455;\n",
              "      fill: #D2E3FC;\n",
              "    }\n",
              "\n",
              "    [theme=dark] .colab-df-convert:hover {\n",
              "      background-color: #434B5C;\n",
              "      box-shadow: 0px 1px 3px 1px rgba(0, 0, 0, 0.15);\n",
              "      filter: drop-shadow(0px 1px 2px rgba(0, 0, 0, 0.3));\n",
              "      fill: #FFFFFF;\n",
              "    }\n",
              "  </style>\n",
              "\n",
              "      <script>\n",
              "        const buttonEl =\n",
              "          document.querySelector('#df-8f113be6-2925-4861-aece-c37ee2c60565 button.colab-df-convert');\n",
              "        buttonEl.style.display =\n",
              "          google.colab.kernel.accessAllowed ? 'block' : 'none';\n",
              "\n",
              "        async function convertToInteractive(key) {\n",
              "          const element = document.querySelector('#df-8f113be6-2925-4861-aece-c37ee2c60565');\n",
              "          const dataTable =\n",
              "            await google.colab.kernel.invokeFunction('convertToInteractive',\n",
              "                                                     [key], {});\n",
              "          if (!dataTable) return;\n",
              "\n",
              "          const docLinkHtml = 'Like what you see? Visit the ' +\n",
              "            '<a target=\"_blank\" href=https://colab.research.google.com/notebooks/data_table.ipynb>data table notebook</a>'\n",
              "            + ' to learn more about interactive tables.';\n",
              "          element.innerHTML = '';\n",
              "          dataTable['output_type'] = 'display_data';\n",
              "          await google.colab.output.renderOutput(dataTable, element);\n",
              "          const docLink = document.createElement('div');\n",
              "          docLink.innerHTML = docLinkHtml;\n",
              "          element.appendChild(docLink);\n",
              "        }\n",
              "      </script>\n",
              "    </div>\n",
              "  </div>\n",
              "  "
            ]
          },
          "metadata": {},
          "execution_count": 3
        }
      ]
    },
    {
      "cell_type": "code",
      "source": [
        "# Describe the original dataset\n",
        "df.describe()"
      ],
      "metadata": {
        "colab": {
          "base_uri": "https://localhost:8080/",
          "height": 394
        },
        "id": "jpwyu_9auSPg",
        "outputId": "b19a8db0-aa6d-497d-fdb3-bbdbbf243960"
      },
      "execution_count": null,
      "outputs": [
        {
          "output_type": "execute_result",
          "data": {
            "text/plain": [
              "                AREA    PERIMETER   MAJOR_AXIS  MINOR_AXIS  ECCENTRICITY  \\\n",
              "count     898.000000   898.000000   898.000000  898.000000    898.000000   \n",
              "mean   298295.207127  2057.660953   750.811994  495.872785      0.737468   \n",
              "std    107245.205337   410.012459   144.059326  114.268917      0.088727   \n",
              "min      1987.000000   911.828000   336.722700    2.283200      0.344800   \n",
              "25%    206948.000000  1726.091500   641.068650  404.684375      0.685625   \n",
              "50%    319833.000000  2196.345450   791.363400  495.054850      0.754700   \n",
              "75%    382573.000000  2389.716575   858.633750  589.031700      0.802150   \n",
              "max    546063.000000  2811.997100  1222.723000  766.453600      1.000000   \n",
              "\n",
              "          EQDIASQ    SOLIDITY    CONVEX_AREA      EXTENT  ASPECT_RATIO  ...  \\\n",
              "count  898.000000  898.000000     898.000000  898.000000    898.000000  ...   \n",
              "mean   604.577938    0.981840  303845.592428    0.736267      2.131102  ...   \n",
              "std    119.593888    0.018157  108815.656947    0.053745     17.820778  ...   \n",
              "min     50.298400    0.836600    2257.000000    0.512300      1.065300  ...   \n",
              "25%    513.317075    0.978825  210022.750000    0.705875      1.373725  ...   \n",
              "50%    638.140950    0.987300  327207.000000    0.746950      1.524150  ...   \n",
              "75%    697.930525    0.991800  388804.000000    0.775850      1.674750  ...   \n",
              "max    833.827900    0.997400  552598.000000    0.856200    535.525700  ...   \n",
              "\n",
              "           SkewRB  KurtosisRR  KurtosisRG  KurtosisRB     EntropyRR  \\\n",
              "count  898.000000  898.000000  898.000000  898.000000  8.980000e+02   \n",
              "mean     0.250518    4.247845    5.110894    3.780928 -3.185021e+10   \n",
              "std      0.632918    2.892357    3.745463    2.049831  2.037241e+10   \n",
              "min     -1.029100    1.708200    1.607600    1.767200 -1.091224e+11   \n",
              "25%     -0.196950    2.536625    2.508850    2.577275 -4.429444e+10   \n",
              "50%      0.135550    3.069800    3.127800    3.080700 -2.826156e+10   \n",
              "75%      0.593950    4.449850    7.320400    4.283125 -1.460482e+10   \n",
              "max      3.092300   26.171100   26.736700   32.249500 -1.627316e+08   \n",
              "\n",
              "          EntropyRG     EntropyRB  ALLdaub4RR  ALLdaub4RG  ALLdaub4RB  \n",
              "count  8.980000e+02  8.980000e+02  898.000000  898.000000  898.000000  \n",
              "mean  -2.901860e+10 -2.771876e+10   50.082888   48.805681   48.098393  \n",
              "std    1.712952e+10  1.484137e+10   16.063125   14.125911   10.813862  \n",
              "min   -9.261697e+10 -8.747177e+10   15.191100   20.524700   22.130000  \n",
              "25%   -3.894638e+10 -3.564534e+10   38.224425   38.654525   39.250725  \n",
              "50%   -2.620990e+10 -2.392928e+10   53.841300   50.337800   49.614100  \n",
              "75%   -1.433105e+10 -1.660367e+10   63.063350   59.573600   56.666675  \n",
              "max   -5.627727e+08 -4.370435e+08   79.828900   83.064900   74.104600  \n",
              "\n",
              "[8 rows x 34 columns]"
            ],
            "text/html": [
              "\n",
              "  <div id=\"df-87c5a4ce-e615-4a2d-917c-0b2cb6fed9bc\">\n",
              "    <div class=\"colab-df-container\">\n",
              "      <div>\n",
              "<style scoped>\n",
              "    .dataframe tbody tr th:only-of-type {\n",
              "        vertical-align: middle;\n",
              "    }\n",
              "\n",
              "    .dataframe tbody tr th {\n",
              "        vertical-align: top;\n",
              "    }\n",
              "\n",
              "    .dataframe thead th {\n",
              "        text-align: right;\n",
              "    }\n",
              "</style>\n",
              "<table border=\"1\" class=\"dataframe\">\n",
              "  <thead>\n",
              "    <tr style=\"text-align: right;\">\n",
              "      <th></th>\n",
              "      <th>AREA</th>\n",
              "      <th>PERIMETER</th>\n",
              "      <th>MAJOR_AXIS</th>\n",
              "      <th>MINOR_AXIS</th>\n",
              "      <th>ECCENTRICITY</th>\n",
              "      <th>EQDIASQ</th>\n",
              "      <th>SOLIDITY</th>\n",
              "      <th>CONVEX_AREA</th>\n",
              "      <th>EXTENT</th>\n",
              "      <th>ASPECT_RATIO</th>\n",
              "      <th>...</th>\n",
              "      <th>SkewRB</th>\n",
              "      <th>KurtosisRR</th>\n",
              "      <th>KurtosisRG</th>\n",
              "      <th>KurtosisRB</th>\n",
              "      <th>EntropyRR</th>\n",
              "      <th>EntropyRG</th>\n",
              "      <th>EntropyRB</th>\n",
              "      <th>ALLdaub4RR</th>\n",
              "      <th>ALLdaub4RG</th>\n",
              "      <th>ALLdaub4RB</th>\n",
              "    </tr>\n",
              "  </thead>\n",
              "  <tbody>\n",
              "    <tr>\n",
              "      <th>count</th>\n",
              "      <td>898.000000</td>\n",
              "      <td>898.000000</td>\n",
              "      <td>898.000000</td>\n",
              "      <td>898.000000</td>\n",
              "      <td>898.000000</td>\n",
              "      <td>898.000000</td>\n",
              "      <td>898.000000</td>\n",
              "      <td>898.000000</td>\n",
              "      <td>898.000000</td>\n",
              "      <td>898.000000</td>\n",
              "      <td>...</td>\n",
              "      <td>898.000000</td>\n",
              "      <td>898.000000</td>\n",
              "      <td>898.000000</td>\n",
              "      <td>898.000000</td>\n",
              "      <td>8.980000e+02</td>\n",
              "      <td>8.980000e+02</td>\n",
              "      <td>8.980000e+02</td>\n",
              "      <td>898.000000</td>\n",
              "      <td>898.000000</td>\n",
              "      <td>898.000000</td>\n",
              "    </tr>\n",
              "    <tr>\n",
              "      <th>mean</th>\n",
              "      <td>298295.207127</td>\n",
              "      <td>2057.660953</td>\n",
              "      <td>750.811994</td>\n",
              "      <td>495.872785</td>\n",
              "      <td>0.737468</td>\n",
              "      <td>604.577938</td>\n",
              "      <td>0.981840</td>\n",
              "      <td>303845.592428</td>\n",
              "      <td>0.736267</td>\n",
              "      <td>2.131102</td>\n",
              "      <td>...</td>\n",
              "      <td>0.250518</td>\n",
              "      <td>4.247845</td>\n",
              "      <td>5.110894</td>\n",
              "      <td>3.780928</td>\n",
              "      <td>-3.185021e+10</td>\n",
              "      <td>-2.901860e+10</td>\n",
              "      <td>-2.771876e+10</td>\n",
              "      <td>50.082888</td>\n",
              "      <td>48.805681</td>\n",
              "      <td>48.098393</td>\n",
              "    </tr>\n",
              "    <tr>\n",
              "      <th>std</th>\n",
              "      <td>107245.205337</td>\n",
              "      <td>410.012459</td>\n",
              "      <td>144.059326</td>\n",
              "      <td>114.268917</td>\n",
              "      <td>0.088727</td>\n",
              "      <td>119.593888</td>\n",
              "      <td>0.018157</td>\n",
              "      <td>108815.656947</td>\n",
              "      <td>0.053745</td>\n",
              "      <td>17.820778</td>\n",
              "      <td>...</td>\n",
              "      <td>0.632918</td>\n",
              "      <td>2.892357</td>\n",
              "      <td>3.745463</td>\n",
              "      <td>2.049831</td>\n",
              "      <td>2.037241e+10</td>\n",
              "      <td>1.712952e+10</td>\n",
              "      <td>1.484137e+10</td>\n",
              "      <td>16.063125</td>\n",
              "      <td>14.125911</td>\n",
              "      <td>10.813862</td>\n",
              "    </tr>\n",
              "    <tr>\n",
              "      <th>min</th>\n",
              "      <td>1987.000000</td>\n",
              "      <td>911.828000</td>\n",
              "      <td>336.722700</td>\n",
              "      <td>2.283200</td>\n",
              "      <td>0.344800</td>\n",
              "      <td>50.298400</td>\n",
              "      <td>0.836600</td>\n",
              "      <td>2257.000000</td>\n",
              "      <td>0.512300</td>\n",
              "      <td>1.065300</td>\n",
              "      <td>...</td>\n",
              "      <td>-1.029100</td>\n",
              "      <td>1.708200</td>\n",
              "      <td>1.607600</td>\n",
              "      <td>1.767200</td>\n",
              "      <td>-1.091224e+11</td>\n",
              "      <td>-9.261697e+10</td>\n",
              "      <td>-8.747177e+10</td>\n",
              "      <td>15.191100</td>\n",
              "      <td>20.524700</td>\n",
              "      <td>22.130000</td>\n",
              "    </tr>\n",
              "    <tr>\n",
              "      <th>25%</th>\n",
              "      <td>206948.000000</td>\n",
              "      <td>1726.091500</td>\n",
              "      <td>641.068650</td>\n",
              "      <td>404.684375</td>\n",
              "      <td>0.685625</td>\n",
              "      <td>513.317075</td>\n",
              "      <td>0.978825</td>\n",
              "      <td>210022.750000</td>\n",
              "      <td>0.705875</td>\n",
              "      <td>1.373725</td>\n",
              "      <td>...</td>\n",
              "      <td>-0.196950</td>\n",
              "      <td>2.536625</td>\n",
              "      <td>2.508850</td>\n",
              "      <td>2.577275</td>\n",
              "      <td>-4.429444e+10</td>\n",
              "      <td>-3.894638e+10</td>\n",
              "      <td>-3.564534e+10</td>\n",
              "      <td>38.224425</td>\n",
              "      <td>38.654525</td>\n",
              "      <td>39.250725</td>\n",
              "    </tr>\n",
              "    <tr>\n",
              "      <th>50%</th>\n",
              "      <td>319833.000000</td>\n",
              "      <td>2196.345450</td>\n",
              "      <td>791.363400</td>\n",
              "      <td>495.054850</td>\n",
              "      <td>0.754700</td>\n",
              "      <td>638.140950</td>\n",
              "      <td>0.987300</td>\n",
              "      <td>327207.000000</td>\n",
              "      <td>0.746950</td>\n",
              "      <td>1.524150</td>\n",
              "      <td>...</td>\n",
              "      <td>0.135550</td>\n",
              "      <td>3.069800</td>\n",
              "      <td>3.127800</td>\n",
              "      <td>3.080700</td>\n",
              "      <td>-2.826156e+10</td>\n",
              "      <td>-2.620990e+10</td>\n",
              "      <td>-2.392928e+10</td>\n",
              "      <td>53.841300</td>\n",
              "      <td>50.337800</td>\n",
              "      <td>49.614100</td>\n",
              "    </tr>\n",
              "    <tr>\n",
              "      <th>75%</th>\n",
              "      <td>382573.000000</td>\n",
              "      <td>2389.716575</td>\n",
              "      <td>858.633750</td>\n",
              "      <td>589.031700</td>\n",
              "      <td>0.802150</td>\n",
              "      <td>697.930525</td>\n",
              "      <td>0.991800</td>\n",
              "      <td>388804.000000</td>\n",
              "      <td>0.775850</td>\n",
              "      <td>1.674750</td>\n",
              "      <td>...</td>\n",
              "      <td>0.593950</td>\n",
              "      <td>4.449850</td>\n",
              "      <td>7.320400</td>\n",
              "      <td>4.283125</td>\n",
              "      <td>-1.460482e+10</td>\n",
              "      <td>-1.433105e+10</td>\n",
              "      <td>-1.660367e+10</td>\n",
              "      <td>63.063350</td>\n",
              "      <td>59.573600</td>\n",
              "      <td>56.666675</td>\n",
              "    </tr>\n",
              "    <tr>\n",
              "      <th>max</th>\n",
              "      <td>546063.000000</td>\n",
              "      <td>2811.997100</td>\n",
              "      <td>1222.723000</td>\n",
              "      <td>766.453600</td>\n",
              "      <td>1.000000</td>\n",
              "      <td>833.827900</td>\n",
              "      <td>0.997400</td>\n",
              "      <td>552598.000000</td>\n",
              "      <td>0.856200</td>\n",
              "      <td>535.525700</td>\n",
              "      <td>...</td>\n",
              "      <td>3.092300</td>\n",
              "      <td>26.171100</td>\n",
              "      <td>26.736700</td>\n",
              "      <td>32.249500</td>\n",
              "      <td>-1.627316e+08</td>\n",
              "      <td>-5.627727e+08</td>\n",
              "      <td>-4.370435e+08</td>\n",
              "      <td>79.828900</td>\n",
              "      <td>83.064900</td>\n",
              "      <td>74.104600</td>\n",
              "    </tr>\n",
              "  </tbody>\n",
              "</table>\n",
              "<p>8 rows × 34 columns</p>\n",
              "</div>\n",
              "      <button class=\"colab-df-convert\" onclick=\"convertToInteractive('df-87c5a4ce-e615-4a2d-917c-0b2cb6fed9bc')\"\n",
              "              title=\"Convert this dataframe to an interactive table.\"\n",
              "              style=\"display:none;\">\n",
              "        \n",
              "  <svg xmlns=\"http://www.w3.org/2000/svg\" height=\"24px\"viewBox=\"0 0 24 24\"\n",
              "       width=\"24px\">\n",
              "    <path d=\"M0 0h24v24H0V0z\" fill=\"none\"/>\n",
              "    <path d=\"M18.56 5.44l.94 2.06.94-2.06 2.06-.94-2.06-.94-.94-2.06-.94 2.06-2.06.94zm-11 1L8.5 8.5l.94-2.06 2.06-.94-2.06-.94L8.5 2.5l-.94 2.06-2.06.94zm10 10l.94 2.06.94-2.06 2.06-.94-2.06-.94-.94-2.06-.94 2.06-2.06.94z\"/><path d=\"M17.41 7.96l-1.37-1.37c-.4-.4-.92-.59-1.43-.59-.52 0-1.04.2-1.43.59L10.3 9.45l-7.72 7.72c-.78.78-.78 2.05 0 2.83L4 21.41c.39.39.9.59 1.41.59.51 0 1.02-.2 1.41-.59l7.78-7.78 2.81-2.81c.8-.78.8-2.07 0-2.86zM5.41 20L4 18.59l7.72-7.72 1.47 1.35L5.41 20z\"/>\n",
              "  </svg>\n",
              "      </button>\n",
              "      \n",
              "  <style>\n",
              "    .colab-df-container {\n",
              "      display:flex;\n",
              "      flex-wrap:wrap;\n",
              "      gap: 12px;\n",
              "    }\n",
              "\n",
              "    .colab-df-convert {\n",
              "      background-color: #E8F0FE;\n",
              "      border: none;\n",
              "      border-radius: 50%;\n",
              "      cursor: pointer;\n",
              "      display: none;\n",
              "      fill: #1967D2;\n",
              "      height: 32px;\n",
              "      padding: 0 0 0 0;\n",
              "      width: 32px;\n",
              "    }\n",
              "\n",
              "    .colab-df-convert:hover {\n",
              "      background-color: #E2EBFA;\n",
              "      box-shadow: 0px 1px 2px rgba(60, 64, 67, 0.3), 0px 1px 3px 1px rgba(60, 64, 67, 0.15);\n",
              "      fill: #174EA6;\n",
              "    }\n",
              "\n",
              "    [theme=dark] .colab-df-convert {\n",
              "      background-color: #3B4455;\n",
              "      fill: #D2E3FC;\n",
              "    }\n",
              "\n",
              "    [theme=dark] .colab-df-convert:hover {\n",
              "      background-color: #434B5C;\n",
              "      box-shadow: 0px 1px 3px 1px rgba(0, 0, 0, 0.15);\n",
              "      filter: drop-shadow(0px 1px 2px rgba(0, 0, 0, 0.3));\n",
              "      fill: #FFFFFF;\n",
              "    }\n",
              "  </style>\n",
              "\n",
              "      <script>\n",
              "        const buttonEl =\n",
              "          document.querySelector('#df-87c5a4ce-e615-4a2d-917c-0b2cb6fed9bc button.colab-df-convert');\n",
              "        buttonEl.style.display =\n",
              "          google.colab.kernel.accessAllowed ? 'block' : 'none';\n",
              "\n",
              "        async function convertToInteractive(key) {\n",
              "          const element = document.querySelector('#df-87c5a4ce-e615-4a2d-917c-0b2cb6fed9bc');\n",
              "          const dataTable =\n",
              "            await google.colab.kernel.invokeFunction('convertToInteractive',\n",
              "                                                     [key], {});\n",
              "          if (!dataTable) return;\n",
              "\n",
              "          const docLinkHtml = 'Like what you see? Visit the ' +\n",
              "            '<a target=\"_blank\" href=https://colab.research.google.com/notebooks/data_table.ipynb>data table notebook</a>'\n",
              "            + ' to learn more about interactive tables.';\n",
              "          element.innerHTML = '';\n",
              "          dataTable['output_type'] = 'display_data';\n",
              "          await google.colab.output.renderOutput(dataTable, element);\n",
              "          const docLink = document.createElement('div');\n",
              "          docLink.innerHTML = docLinkHtml;\n",
              "          element.appendChild(docLink);\n",
              "        }\n",
              "      </script>\n",
              "    </div>\n",
              "  </div>\n",
              "  "
            ]
          },
          "metadata": {},
          "execution_count": 4
        }
      ]
    },
    {
      "cell_type": "code",
      "source": [
        "# Checking data types and null values\n",
        "df.info()"
      ],
      "metadata": {
        "colab": {
          "base_uri": "https://localhost:8080/"
        },
        "id": "tKbIZxKnuJ1o",
        "outputId": "0ca1c1e8-75c6-4526-efd7-a35196f75677"
      },
      "execution_count": null,
      "outputs": [
        {
          "output_type": "stream",
          "name": "stdout",
          "text": [
            "<class 'pandas.core.frame.DataFrame'>\n",
            "RangeIndex: 898 entries, 0 to 897\n",
            "Data columns (total 35 columns):\n",
            " #   Column         Non-Null Count  Dtype  \n",
            "---  ------         --------------  -----  \n",
            " 0   AREA           898 non-null    int64  \n",
            " 1   PERIMETER      898 non-null    float64\n",
            " 2   MAJOR_AXIS     898 non-null    float64\n",
            " 3   MINOR_AXIS     898 non-null    float64\n",
            " 4   ECCENTRICITY   898 non-null    float64\n",
            " 5   EQDIASQ        898 non-null    float64\n",
            " 6   SOLIDITY       898 non-null    float64\n",
            " 7   CONVEX_AREA    898 non-null    int64  \n",
            " 8   EXTENT         898 non-null    float64\n",
            " 9   ASPECT_RATIO   898 non-null    float64\n",
            " 10  ROUNDNESS      898 non-null    float64\n",
            " 11  COMPACTNESS    898 non-null    float64\n",
            " 12  SHAPEFACTOR_1  898 non-null    float64\n",
            " 13  SHAPEFACTOR_2  898 non-null    float64\n",
            " 14  SHAPEFACTOR_3  898 non-null    float64\n",
            " 15  SHAPEFACTOR_4  898 non-null    float64\n",
            " 16  MeanRR         898 non-null    float64\n",
            " 17  MeanRG         898 non-null    float64\n",
            " 18  MeanRB         898 non-null    float64\n",
            " 19  StdDevRR       898 non-null    float64\n",
            " 20  StdDevRG       898 non-null    float64\n",
            " 21  StdDevRB       898 non-null    float64\n",
            " 22  SkewRR         898 non-null    float64\n",
            " 23  SkewRG         898 non-null    float64\n",
            " 24  SkewRB         898 non-null    float64\n",
            " 25  KurtosisRR     898 non-null    float64\n",
            " 26  KurtosisRG     898 non-null    float64\n",
            " 27  KurtosisRB     898 non-null    float64\n",
            " 28  EntropyRR      898 non-null    int64  \n",
            " 29  EntropyRG      898 non-null    int64  \n",
            " 30  EntropyRB      898 non-null    int64  \n",
            " 31  ALLdaub4RR     898 non-null    float64\n",
            " 32  ALLdaub4RG     898 non-null    float64\n",
            " 33  ALLdaub4RB     898 non-null    float64\n",
            " 34  Class          898 non-null    object \n",
            "dtypes: float64(29), int64(5), object(1)\n",
            "memory usage: 245.7+ KB\n"
          ]
        }
      ]
    },
    {
      "cell_type": "code",
      "source": [
        "# Count of each class\n",
        "sns.countplot(data=df, x='Class', palette='bone_r')"
      ],
      "metadata": {
        "colab": {
          "base_uri": "https://localhost:8080/",
          "height": 466
        },
        "id": "OS8DGcBTn0NY",
        "outputId": "23331904-fcd0-4bc0-d5e9-5ecaeeb66fae"
      },
      "execution_count": null,
      "outputs": [
        {
          "output_type": "execute_result",
          "data": {
            "text/plain": [
              "<Axes: xlabel='Class', ylabel='count'>"
            ]
          },
          "metadata": {},
          "execution_count": 6
        },
        {
          "output_type": "display_data",
          "data": {
            "text/plain": [
              "<Figure size 640x480 with 1 Axes>"
            ],
            "image/png": "[encoded data removed]"
          },
          "metadata": {}
        }
      ]
    },
    {
      "cell_type": "code",
      "source": [
        "# Scatterplot for the area of different date fruit\n",
        "sns.scatterplot(x=df['AREA'],y=df['Class'],hue=df['Class'],palette='bone_r')"
      ],
      "metadata": {
        "colab": {
          "base_uri": "https://localhost:8080/",
          "height": 466
        },
        "id": "xsIBnXB6rC9v",
        "outputId": "93c430d8-1c0f-4312-bdca-8bc6dd90aff2"
      },
      "execution_count": null,
      "outputs": [
        {
          "output_type": "execute_result",
          "data": {
            "text/plain": [
              "<Axes: xlabel='AREA', ylabel='Class'>"
            ]
          },
          "metadata": {},
          "execution_count": 7
        },
        {
          "output_type": "display_data",
          "data": {
            "text/plain": [
              "<Figure size 640x480 with 1 Axes>"
            ],
            "image/png": "[encoded data removed]"
          },
          "metadata": {}
        }
      ]
    },
    {
      "cell_type": "code",
      "source": [
        "# Scatterplot for the perimeter of different date fruit\n",
        "sns.scatterplot(x=df['PERIMETER'],y=df['Class'],hue=df['Class'],palette='bone_r')"
      ],
      "metadata": {
        "colab": {
          "base_uri": "https://localhost:8080/",
          "height": 466
        },
        "id": "bht0da5NrByQ",
        "outputId": "3f12ba82-1ed6-4e67-d0b8-1141d5ac1f76"
      },
      "execution_count": null,
      "outputs": [
        {
          "output_type": "execute_result",
          "data": {
            "text/plain": [
              "<Axes: xlabel='PERIMETER', ylabel='Class'>"
            ]
          },
          "metadata": {},
          "execution_count": 8
        },
        {
          "output_type": "display_data",
          "data": {
            "text/plain": [
              "<Figure size 640x480 with 1 Axes>"
            ],
            "image/png": "[encoded data removed]"
          },
          "metadata": {}
        }
      ]
    },
    {
      "cell_type": "markdown",
      "source": [
        "Data Cleaning"
      ],
      "metadata": {
        "id": "d9tgMtwRLx9-"
      }
    },
    {
      "cell_type": "code",
      "source": [
        "from scipy.stats import zscore\n",
        "\n",
        "# Calculate the median value of each class\n",
        "medians_by_class = df.groupby('Class').median()\n",
        "\n",
        "# Implement each row of dataset\n",
        "for index, row in df.iterrows():\n",
        "    # Get the corresponding class value\n",
        "    current_class = row['Class']\n",
        "    \n",
        "    # Get the median of the class\n",
        "    medians = medians_by_class.loc[current_class]\n",
        "\n",
        "    # Outlier detection for the value of each feature\n",
        "    for column in df.columns:\n",
        "        if column != 'Class':\n",
        "            # Calculating the Z-score\n",
        "            z_scores = zscore(df.loc[df['Class'] == current_class, column])\n",
        "            z_scores_series = pd.Series(z_scores, index=df.loc[df['Class'] == current_class].index)\n",
        "            current_z_score = z_scores_series.loc[index]\n",
        "\n",
        "            # If the absolute value of the Z-score is greater than 2.5, we consider it to be an outlier\n",
        "            if abs(current_z_score) > 2.5:\n",
        "                # Replace the outlier with the median of the feature\n",
        "                df.at[index, column] = medians[column]"
      ],
      "metadata": {
        "id": "gXvPqibeXAtH"
      },
      "execution_count": null,
      "outputs": []
    },
    {
      "cell_type": "markdown",
      "source": [
        "Feature Selection"
      ],
      "metadata": {
        "id": "dUYAhhI5t2Am"
      }
    },
    {
      "cell_type": "code",
      "execution_count": 17,
      "outputs": [],
      "source": [
        "# Drop the target column\n",
        "X_data = df.drop(['Class'], axis=1).values\n",
        "y_data = df.Class.values"
      ],
      "metadata": {
        "pycharm": {
          "name": "#%%\n"
        },
        "id": "nLnXR3rrM89B"
      }
    },
    {
      "cell_type": "code",
      "execution_count": 18,
      "outputs": [],
      "source": [
        "# Split the data\n",
        "X_train, X_test, y_train, y_test = train_test_split(X_data, y_data, test_size=0.2, random_state=42)"
      ],
      "metadata": {
        "pycharm": {
          "name": "#%%\n"
        },
        "id": "OS9G3sPdM89B"
      }
    },
    {
      "cell_type": "code",
      "source": [
        "# feature importances in RF\n",
        "clf = RandomForestClassifier(n_estimators=100, random_state=42)\n",
        "clf.fit(X_train, y_train)\n",
        "importances = clf.feature_importances_\n",
        "\n",
        "# output of feature importances\n",
        "features = df.drop(['Class'], axis=1).columns\n",
        "importance_df = pd.DataFrame({'features': features, 'importances': importances})\n",
        "print(importance_df.sort_values(by='importances', ascending=False))"
      ],
      "metadata": {
        "colab": {
          "base_uri": "https://localhost:8080/"
        },
        "id": "xlVK6ey_o4wV",
        "outputId": "407ff4af-5526-4775-c399-d8303d8e67bd"
      },
      "execution_count": 19,
      "outputs": [
        {
          "output_type": "stream",
          "name": "stdout",
          "text": [
            "         features  importances\n",
            "3      MINOR_AXIS     0.084422\n",
            "5         EQDIASQ     0.064560\n",
            "16         MeanRR     0.064387\n",
            "7     CONVEX_AREA     0.061065\n",
            "31     ALLdaub4RR     0.058116\n",
            "0            AREA     0.050829\n",
            "17         MeanRG     0.048958\n",
            "1       PERIMETER     0.046529\n",
            "29      EntropyRG     0.044837\n",
            "24         SkewRB     0.041367\n",
            "12  SHAPEFACTOR_1     0.038235\n",
            "32     ALLdaub4RG     0.037478\n",
            "28      EntropyRR     0.035493\n",
            "23         SkewRG     0.031799\n",
            "27     KurtosisRB     0.024037\n",
            "10      ROUNDNESS     0.022766\n",
            "26     KurtosisRG     0.021749\n",
            "22         SkewRR     0.021320\n",
            "30      EntropyRB     0.020866\n",
            "18         MeanRB     0.019304\n",
            "2      MAJOR_AXIS     0.019060\n",
            "4    ECCENTRICITY     0.015486\n",
            "33     ALLdaub4RB     0.015293\n",
            "11    COMPACTNESS     0.014297\n",
            "13  SHAPEFACTOR_2     0.013063\n",
            "6        SOLIDITY     0.012460\n",
            "9    ASPECT_RATIO     0.012038\n",
            "15  SHAPEFACTOR_4     0.009762\n",
            "25     KurtosisRR     0.009569\n",
            "8          EXTENT     0.009360\n",
            "14  SHAPEFACTOR_3     0.009023\n",
            "20       StdDevRG     0.008247\n",
            "21       StdDevRB     0.007179\n",
            "19       StdDevRR     0.007047\n"
          ]
        }
      ]
    },
    {
      "cell_type": "code",
      "source": [
        "# select the top k most important features\n",
        "k = 32\n",
        "selector = SelectKBest(f_classif, k=k)\n",
        "selector.fit(X_data, y_data)\n",
        "selected_features = df.drop(['Class'], axis=1).columns[selector.get_support()]\n",
        "print(f\"Selected {k} features：\", selected_features)"
      ],
      "metadata": {
        "colab": {
          "base_uri": "https://localhost:8080/"
        },
        "id": "bymfMaoJo57h",
        "outputId": "a5fd0d94-64f6-40bc-efb1-c399ca361b21"
      },
      "execution_count": 20,
      "outputs": [
        {
          "output_type": "stream",
          "name": "stdout",
          "text": [
            "Selected 32 features： Index(['AREA', 'PERIMETER', 'MAJOR_AXIS', 'MINOR_AXIS', 'ECCENTRICITY',\n",
            "       'EQDIASQ', 'SOLIDITY', 'CONVEX_AREA', 'ASPECT_RATIO', 'ROUNDNESS',\n",
            "       'COMPACTNESS', 'SHAPEFACTOR_1', 'SHAPEFACTOR_2', 'SHAPEFACTOR_3',\n",
            "       'MeanRR', 'MeanRG', 'MeanRB', 'StdDevRR', 'StdDevRG', 'StdDevRB',\n",
            "       'SkewRR', 'SkewRG', 'SkewRB', 'KurtosisRR', 'KurtosisRG', 'KurtosisRB',\n",
            "       'EntropyRR', 'EntropyRG', 'EntropyRB', 'ALLdaub4RR', 'ALLdaub4RG',\n",
            "       'ALLdaub4RB'],\n",
            "      dtype='object')\n"
          ]
        }
      ]
    },
    {
      "cell_type": "markdown",
      "source": [
        "Data preprocessing"
      ],
      "metadata": {
        "id": "F5Ic_YSyst-t"
      }
    },
    {
      "cell_type": "code",
      "source": [
        "# Drop the target and the 2 least important columns\n",
        "X_data = df.drop(['Class', 'StdDevRR', 'StdDevRB'], axis=1).values\n",
        "y_data = df.Class.values"
      ],
      "metadata": {
        "id": "uA-iidgisrKC"
      },
      "execution_count": null,
      "outputs": []
    },
    {
      "cell_type": "code",
      "source": [
        "# Split the data\n",
        "X_train, X_test, y_train, y_test = train_test_split(X_data, y_data, test_size=0.2, random_state=42)"
      ],
      "metadata": {
        "id": "BBmdgmRQsrIB"
      },
      "execution_count": null,
      "outputs": []
    },
    {
      "cell_type": "code",
      "execution_count": null,
      "outputs": [
        {
          "output_type": "stream",
          "name": "stdout",
          "text": [
            "(718, 32) (180, 32)\n"
          ]
        }
      ],
      "source": [
        "# Scaling the data using standard scaler\n",
        "std_scaler = StandardScaler()\n",
        "std_scaler.fit(X_train)\n",
        "X_train = std_scaler.transform(X_train)\n",
        "X_test = std_scaler.transform(X_test)\n",
        "print(X_train.shape, X_test.shape)"
      ],
      "metadata": {
        "pycharm": {
          "name": "#%%\n"
        },
        "colab": {
          "base_uri": "https://localhost:8080/"
        },
        "id": "xpcVcGWzM89C",
        "outputId": "eddd0da8-21d7-490e-cd9e-d56eb2b651b9"
      }
    },
    {
      "cell_type": "code",
      "execution_count": null,
      "outputs": [
        {
          "output_type": "stream",
          "name": "stdout",
          "text": [
            "(718,) (180,)\n"
          ]
        }
      ],
      "source": [
        "# Encoding the data to get the target's label\n",
        "label_encoder = LabelEncoder()\n",
        "label_encoder.fit(y_train)\n",
        "y_train = label_encoder.transform(y_train)\n",
        "y_test = label_encoder.transform(y_test)\n",
        "print(y_train.shape, y_test.shape)"
      ],
      "metadata": {
        "pycharm": {
          "name": "#%%\n"
        },
        "colab": {
          "base_uri": "https://localhost:8080/"
        },
        "id": "8Ysozeo-M89C",
        "outputId": "d5c07d87-b426-41d8-cc85-6d29a7c1b3cc"
      }
    },
    {
      "cell_type": "markdown",
      "source": [
        "Hyperparameter Tuning"
      ],
      "metadata": {
        "id": "tUoPCwoE0RJz"
      }
    },
    {
      "cell_type": "code",
      "source": [
        "rf = RandomForestClassifier(random_state=42)\n",
        "\n",
        "param_grid = {\n",
        "    'n_estimators': [10, 50, 100, 200, 500],\n",
        "    'criterion': ['gini', 'entropy'],\n",
        "    'max_depth': [None, 10, 20, 30, 50],\n",
        "    'min_samples_split': [2, 5, 10, 15],\n",
        "    'min_samples_leaf': [1, 2, 4, 6],\n",
        "    'max_features': ['auto', 'sqrt', 'log2'],\n",
        "    'bootstrap': [True, False],\n",
        "    'class_weight': [None, 'balanced', 'balanced_subsample'],\n",
        "}\n",
        "\n",
        "# explore 100 random combinations of hyperparameters\n",
        "random_search = RandomizedSearchCV(rf, param_grid, scoring='accuracy', cv=5, n_jobs=-1, n_iter=100, random_state=42)\n",
        "random_search.fit(X_train, y_train)\n",
        "\n",
        "print(\"Best parameters: \", random_search.best_params_)\n",
        "print(\"Best score: \", random_search.best_score_)\n",
        "\n",
        "best_rf = random_search.best_estimator_\n",
        "y_pred = best_rf.predict(X_test)\n",
        "print(classification_report(y_test, y_pred))"
      ],
      "metadata": {
        "colab": {
          "base_uri": "https://localhost:8080/"
        },
        "id": "L00RCbmS-V9b",
        "outputId": "39c56425-b82c-441d-a468-a88377d484e4"
      },
      "execution_count": null,
      "outputs": [
        {
          "output_type": "stream",
          "name": "stdout",
          "text": [
            "Best parameters:  {'n_estimators': 500, 'min_samples_split': 10, 'min_samples_leaf': 1, 'max_features': 'sqrt', 'max_depth': 10, 'criterion': 'gini', 'class_weight': 'balanced', 'bootstrap': True}\n",
            "Best score:  0.9122766122766123\n",
            "              precision    recall  f1-score   support\n",
            "\n",
            "           0       1.00      0.67      0.80        12\n",
            "           1       0.71      0.85      0.77        20\n",
            "           2       1.00      0.92      0.96        50\n",
            "           3       0.71      1.00      0.83        10\n",
            "           4       1.00      0.97      0.99        35\n",
            "           5       1.00      1.00      1.00        33\n",
            "           6       0.81      0.85      0.83        20\n",
            "\n",
            "    accuracy                           0.92       180\n",
            "   macro avg       0.89      0.89      0.88       180\n",
            "weighted avg       0.93      0.92      0.92       180\n",
            "\n"
          ]
        }
      ]
    },
    {
      "cell_type": "code",
      "source": [
        "svc = SVC()\n",
        "\n",
        "param_grid = {\n",
        "    'C': [0.1, 1, 10, 100, 1000],\n",
        "    'kernel': ['linear', 'rbf', 'sigmoid'],\n",
        "    'gamma': ['scale', 'auto', 0.1, 1, 10],\n",
        "    'coef0': [0, 1, 2],\n",
        "    'shrinking': [True, False],\n",
        "    'probability': [True, False],\n",
        "    'tol': [1e-4, 1e-3, 1e-2, 1e-1],\n",
        "    'class_weight': [None, 'balanced'],\n",
        "}\n",
        "\n",
        "# explore 100 random combinations of hyperparameters\n",
        "random_search = RandomizedSearchCV(svc, param_grid, scoring='accuracy', cv=5, n_jobs=-1, n_iter=100, random_state=42)\n",
        "random_search.fit(X_train, y_train)\n",
        "\n",
        "print(\"Best parameters: \", random_search.best_params_)\n",
        "print(\"Best score: \", random_search.best_score_)\n",
        "\n",
        "best_svc = random_search.best_estimator_\n",
        "y_pred = best_svc.predict(X_test)\n",
        "print(classification_report(y_test, y_pred))"
      ],
      "metadata": {
        "colab": {
          "base_uri": "https://localhost:8080/"
        },
        "id": "ghrMFhJM-V1C",
        "outputId": "20bd5320-1a23-453f-ba27-dfd6202caa49"
      },
      "execution_count": null,
      "outputs": [
        {
          "output_type": "stream",
          "name": "stdout",
          "text": [
            "Best parameters:  {'tol': 0.1, 'shrinking': True, 'probability': True, 'kernel': 'rbf', 'gamma': 'scale', 'coef0': 0, 'class_weight': None, 'C': 10}\n",
            "Best score:  0.934547397047397\n",
            "              precision    recall  f1-score   support\n",
            "\n",
            "           0       0.92      0.92      0.92        12\n",
            "           1       0.78      0.90      0.84        20\n",
            "           2       1.00      0.98      0.99        50\n",
            "           3       0.90      0.90      0.90        10\n",
            "           4       1.00      1.00      1.00        35\n",
            "           5       1.00      1.00      1.00        33\n",
            "           6       0.89      0.80      0.84        20\n",
            "\n",
            "    accuracy                           0.95       180\n",
            "   macro avg       0.93      0.93      0.93       180\n",
            "weighted avg       0.95      0.95      0.95       180\n",
            "\n"
          ]
        }
      ]
    },
    {
      "cell_type": "code",
      "source": [
        "mlp = MLPClassifier(random_state=42)\n",
        "\n",
        "param_grid = {\n",
        "    'hidden_layer_sizes': [(100,), (150,), (200,), (50, 50), (100, 100), (64, 32, 16)],\n",
        "    'activation': ['identity', 'logistic', 'tanh', 'relu'],\n",
        "    'solver': ['lbfgs', 'sgd', 'adam'],\n",
        "    'alpha': [0.0001, 0.001, 0.01, 0.1],\n",
        "    'learning_rate': ['constant', 'invscaling', 'adaptive'],\n",
        "    'max_iter': [200, 600, 1000],\n",
        "    'early_stopping': [True, False]\n",
        "}\n",
        "\n",
        "# explore 50 random combinations of hyperparameters\n",
        "random_search = RandomizedSearchCV(mlp, param_grid, scoring='accuracy', cv=5, n_jobs=-1, n_iter=50, random_state=42)\n",
        "random_search.fit(X_train, y_train)\n",
        "\n",
        "print(\"Best parameters: \", random_search.best_params_)\n",
        "print(\"Best score: \", random_search.best_score_)\n",
        "\n",
        "best_mlp = random_search.best_estimator_\n",
        "y_pred = best_mlp.predict(X_test)\n",
        "print(classification_report(y_test, y_pred))"
      ],
      "metadata": {
        "colab": {
          "base_uri": "https://localhost:8080/"
        },
        "id": "beZI0r8G0Qd1",
        "outputId": "b05a479f-8a4c-467d-d6e9-6aa62a3762fc"
      },
      "execution_count": null,
      "outputs": [
        {
          "output_type": "stream",
          "name": "stdout",
          "text": [
            "Best parameters:  {'solver': 'adam', 'max_iter': 200, 'learning_rate': 'constant', 'hidden_layer_sizes': (150,), 'early_stopping': False, 'alpha': 0.1, 'activation': 'relu'}\n",
            "Best score:  0.9331487956487956\n",
            "              precision    recall  f1-score   support\n",
            "\n",
            "           0       0.92      0.92      0.92        12\n",
            "           1       0.75      0.90      0.82        20\n",
            "           2       1.00      0.96      0.98        50\n",
            "           3       0.90      0.90      0.90        10\n",
            "           4       1.00      1.00      1.00        35\n",
            "           5       1.00      1.00      1.00        33\n",
            "           6       0.89      0.80      0.84        20\n",
            "\n",
            "    accuracy                           0.94       180\n",
            "   macro avg       0.92      0.93      0.92       180\n",
            "weighted avg       0.95      0.94      0.95       180\n",
            "\n"
          ]
        },
        {
          "output_type": "stream",
          "name": "stderr",
          "text": [
            "/usr/local/lib/python3.9/dist-packages/sklearn/neural_network/_multilayer_perceptron.py:686: ConvergenceWarning: Stochastic Optimizer: Maximum iterations (200) reached and the optimization hasn't converged yet.\n",
            "  warnings.warn(\n"
          ]
        }
      ]
    },
    {
      "cell_type": "code",
      "source": [
        "#Hyperparameter Tuning for KNN\n",
        "# Define the KNN classifier\n",
        "knn = KNeighborsClassifier()\n",
        "\n",
        "# Define the hyperparameters search space\n",
        "param_dist = {\n",
        "    'n_neighbors': list(range(1, 51)),\n",
        "    'weights': ['uniform', 'distance'],\n",
        "    'p': [1, 2],\n",
        "    'metric': ['euclidean', 'manhattan', 'minkowski'],\n",
        "}\n",
        "\n",
        "# Perform hyperparameter tuning using RandomizedSearchCV\n",
        "random_search = RandomizedSearchCV(knn, param_distributions=param_dist, n_iter=50, cv=5, verbose=2, n_jobs=-1, random_state=42)\n",
        "random_search.fit(X_train, y_train)\n",
        "\n",
        "# Get the best parameters\n",
        "best_params = random_search.best_params_\n",
        "print(\"Best parameters found:\", best_params)\n",
        "\n",
        "# Evaluate the model with the best parameters on the test set\n",
        "best_knn = random_search.best_estimator_\n",
        "y_pred = best_knn.predict(X_test)\n",
        "print(classification_report(y_test, y_pred))\n"
      ],
      "metadata": {
        "colab": {
          "base_uri": "https://localhost:8080/"
        },
        "outputId": "893c46df-6c65-46ef-85b3-23d89a747ea3",
        "id": "4O1yyA9bQO9T"
      },
      "execution_count": null,
      "outputs": [
        {
          "output_type": "stream",
          "name": "stdout",
          "text": [
            "Fitting 5 folds for each of 50 candidates, totalling 250 fits\n",
            "Best parameters found: {'weights': 'distance', 'p': 2, 'n_neighbors': 14, 'metric': 'euclidean'}\n",
            "              precision    recall  f1-score   support\n",
            "\n",
            "           0       0.92      0.92      0.92        12\n",
            "           1       0.82      0.90      0.86        20\n",
            "           2       0.98      0.98      0.98        50\n",
            "           3       0.90      0.90      0.90        10\n",
            "           4       0.97      1.00      0.99        35\n",
            "           5       1.00      1.00      1.00        33\n",
            "           6       0.94      0.80      0.86        20\n",
            "\n",
            "    accuracy                           0.95       180\n",
            "   macro avg       0.93      0.93      0.93       180\n",
            "weighted avg       0.95      0.95      0.95       180\n",
            "\n"
          ]
        }
      ]
    },
    {
      "cell_type": "code",
      "source": [
        "# Hyperparameter Tuning for LR\n",
        "\n",
        "# Define the feature matrix and target vector\n",
        "X = df[['AREA', 'PERIMETER', 'MAJOR_AXIS', 'MINOR_AXIS', 'ECCENTRICITY', 'EQDIASQ', 'SOLIDITY', 'CONVEX_AREA', 'EXTENT', 'ASPECT_RATIO', 'ROUNDNESS', 'COMPACTNESS', 'SHAPEFACTOR_1', 'SHAPEFACTOR_2', 'SHAPEFACTOR_3', 'SHAPEFACTOR_4', 'MeanRR', 'MeanRG', 'MeanRB', 'StdDevRR', 'StdDevRG', 'StdDevRB', 'SkewRR', 'SkewRG', 'SkewRB', 'KurtosisRR', 'KurtosisRG', 'KurtosisRB', 'EntropyRR', 'EntropyRG', 'EntropyRB', 'ALLdaub4RR', 'ALLdaub4RG', 'ALLdaub4RB']]\n",
        "y = df['Class']\n",
        "\n",
        "# Create a logistic regression model\n",
        "log_reg = LogisticRegression(solver='liblinear', multi_class='auto')\n",
        "\n",
        "# Set up the hyperparameter search space\n",
        "param_dist = {\n",
        "    'C': np.logspace(-4, 4, 20),\n",
        "    'penalty': ['l1', 'l2'],\n",
        "}\n",
        "\n",
        "# Perform randomized search cross-validation\n",
        "random_search = RandomizedSearchCV(log_reg, param_distributions=param_dist, n_iter=50, cv=5, verbose=2, n_jobs=-1, random_state=42)\n",
        "random_search.fit(X_train, y_train)\n",
        "\n",
        "# Get the best parameters\n",
        "best_params = random_search.best_params_\n",
        "print(\"Best Parameters: \", best_params)\n",
        "\n",
        "# Evaluate the best model\n",
        "best_model = random_search.best_estimator_\n",
        "y_pred = best_model.predict(X_test)\n",
        "\n",
        "#Print the results\n",
        "print(\"Classification Report:\\n\", classification_report(y_test, y_pred))\n",
        "print(\"Confusion Matrix:\\n\", confusion_matrix(y_test, y_pred))\n",
        "print(\"Accuracy Score: \", accuracy_score(y_test, y_pred))\n"
      ],
      "metadata": {
        "colab": {
          "base_uri": "https://localhost:8080/"
        },
        "id": "H261GRc-Rr7n",
        "outputId": "c5a3de50-7725-4152-add7-7ba41e18e882"
      },
      "execution_count": null,
      "outputs": [
        {
          "output_type": "stream",
          "name": "stdout",
          "text": [
            "Fitting 5 folds for each of 40 candidates, totalling 200 fits\n"
          ]
        },
        {
          "output_type": "stream",
          "name": "stderr",
          "text": [
            "/usr/local/lib/python3.9/dist-packages/sklearn/model_selection/_search.py:305: UserWarning: The total space of parameters 40 is smaller than n_iter=50. Running 40 iterations. For exhaustive searches, use GridSearchCV.\n",
            "  warnings.warn(\n"
          ]
        },
        {
          "output_type": "stream",
          "name": "stdout",
          "text": [
            "Best Parameters:  {'penalty': 'l1', 'C': 4.281332398719396}\n",
            "Classification Report:\n",
            "               precision    recall  f1-score   support\n",
            "\n",
            "           0       0.92      0.92      0.92        12\n",
            "           1       0.76      0.80      0.78        20\n",
            "           2       0.98      0.98      0.98        50\n",
            "           3       0.90      0.90      0.90        10\n",
            "           4       0.94      0.94      0.94        35\n",
            "           5       1.00      1.00      1.00        33\n",
            "           6       0.79      0.75      0.77        20\n",
            "\n",
            "    accuracy                           0.92       180\n",
            "   macro avg       0.90      0.90      0.90       180\n",
            "weighted avg       0.92      0.92      0.92       180\n",
            "\n",
            "Confusion Matrix:\n",
            " [[11  0  0  1  0  0  0]\n",
            " [ 0 16  1  0  1  0  2]\n",
            " [ 0  1 49  0  0  0  0]\n",
            " [ 1  0  0  9  0  0  0]\n",
            " [ 0  0  0  0 33  0  2]\n",
            " [ 0  0  0  0  0 33  0]\n",
            " [ 0  4  0  0  1  0 15]]\n",
            "Accuracy Score:  0.9222222222222223\n"
          ]
        }
      ]
    },
    {
      "cell_type": "code",
      "source": [
        "#Hyperparamete tuning for DT\n",
        "params = {'max_depth': range(1, 11),\n",
        "          'min_samples_split': range(2, 11),\n",
        "          'min_samples_leaf': range(1, 6),}\n",
        "random_search = RandomizedSearchCV(DecisionTreeClassifier(criterion='entropy', random_state=42),\n",
        "                                   param_distributions=params, n_iter=50, cv=5, random_state=42, n_jobs=-1)\n",
        "random_search.fit(X_train, y_train)\n",
        "best_dt = random_search.best_estimator_\n",
        "\n",
        "# Model training and evaluation using the best hyperparameters\n",
        "start = time.time()\n",
        "best_dt.fit(X_train, y_train)\n",
        "test_pred = best_dt.predict(X_test)\n",
        "end = time.time()\n",
        "dt_train_time = end - start\n",
        "test_acc = accuracy_score(y_test,test_pred)\n",
        "\n",
        "print(\"Decision Tree with Hyperparameter Tuning\")\n",
        "print(\"Best Hyperparameters:\", random_search.best_params_)\n",
        "print(\"Best Validation Accuracy:\", random_search.best_score_)\n",
        "print(\"Time consumed:\", dt_train_time)\n",
        "print('Test Accuracy:', test_acc)\n",
        "print(classification_report(y_test, test_pred))\n",
        "sns.heatmap(confusion_matrix(y_test, test_pred), annot=True, linewidths=2, linecolor='white')"
      ],
      "metadata": {
        "colab": {
          "base_uri": "https://localhost:8080/",
          "height": 777
        },
        "id": "OsJNj5z4k0DM",
        "outputId": "6c74a58d-5460-481f-833f-15f4e94ee67c"
      },
      "execution_count": null,
      "outputs": [
        {
          "output_type": "stream",
          "name": "stdout",
          "text": [
            "Decision Tree with Hyperparameter Tuning\n",
            "Best Hyperparameters: {'min_samples_split': 3, 'min_samples_leaf': 3, 'max_depth': 8}\n",
            "Best Validation Accuracy: 0.8370532245532246\n",
            "Time consumed: 0.021767377853393555\n",
            "Test Accuracy: 0.85\n",
            "              precision    recall  f1-score   support\n",
            "\n",
            "           0       0.60      0.75      0.67        12\n",
            "           1       0.60      0.75      0.67        20\n",
            "           2       1.00      0.98      0.99        50\n",
            "           3       0.75      0.60      0.67        10\n",
            "           4       0.97      0.86      0.91        35\n",
            "           5       0.97      0.88      0.92        33\n",
            "           6       0.68      0.75      0.71        20\n",
            "\n",
            "    accuracy                           0.85       180\n",
            "   macro avg       0.80      0.80      0.79       180\n",
            "weighted avg       0.87      0.85      0.86       180\n",
            "\n"
          ]
        },
        {
          "output_type": "execute_result",
          "data": {
            "text/plain": [
              "<Axes: >"
            ]
          },
          "metadata": {},
          "execution_count": 23
        },
        {
          "output_type": "display_data",
          "data": {
            "text/plain": [
              "<Figure size 640x480 with 2 Axes>"
            ],
            "image/png": "[encoded data removed]"
          },
          "metadata": {}
        }
      ]
    },
    {
      "cell_type": "code",
      "source": [
        "#Hyperparameter tuning for XGB\n",
        "xgb = XGBClassifier()\n",
        "\n",
        "# define the hyperparameters to tune\n",
        "param_dist = {\n",
        "    'max_depth': randint(3, 7),\n",
        "    'learning_rate': uniform(0.01, 1),\n",
        "    'n_estimators': randint(50, 150),\n",
        "    'gamma': uniform(0, 0.2),\n",
        "    'subsample': uniform(0.5, 0.5),\n",
        "    'colsample_bytree': uniform(0.5, 0.5),\n",
        "    'reg_alpha': uniform(0, 0.5),\n",
        "    'reg_lambda': uniform(0, 1)\n",
        "}\n",
        "\n",
        "# create the RandomizedSearchCV object\n",
        "random_search = RandomizedSearchCV(estimator=xgb, param_distributions=param_dist, cv=5, n_jobs=-1)\n",
        "\n",
        "# fit the model to the training data\n",
        "start = time.time()\n",
        "random_search.fit(X_train, y_train)\n",
        "end = time.time()\n",
        "xgb_train_time = end - start\n",
        "\n",
        "# get the best hyperparameters and the corresponding accuracy score\n",
        "best_params = random_search.best_params_\n",
        "best_score = random_search.best_score_\n",
        "\n",
        "# evaluate the model on the test set using the best hyperparameters\n",
        "test_pred = random_search.predict(X_test)\n",
        "test_acc = accuracy_score(y_test,test_pred)\n",
        "\n",
        "print(\"XGBoost with Hyperparameter Tuning\")\n",
        "print(\"Time consumed:\", xgb_train_time)\n",
        "print(\"Best Parameters:\", best_params)\n",
        "print(\"Best Score:\", best_score)\n",
        "print('Test Accuracy:', test_acc)\n",
        "print(classification_report(y_test, random_search.predict(X_test)))\n",
        "sns.heatmap(confusion_matrix(y_test,random_search.predict(X_test)),annot=True,linewidths=2,linecolor='white')"
      ],
      "metadata": {
        "colab": {
          "base_uri": "https://localhost:8080/",
          "height": 797
        },
        "id": "RQxzH6HEkwW8",
        "outputId": "e8272352-4427-4b19-96f0-d1dc0a9ae09b"
      },
      "execution_count": null,
      "outputs": [
        {
          "output_type": "stream",
          "name": "stdout",
          "text": [
            "XGBoost with Hyperparameter Tuning\n",
            "Time consumed: 21.869431495666504\n",
            "Best Parameters: {'colsample_bytree': 0.831261142176991, 'gamma': 0.06234221521788219, 'learning_rate': 0.5300680211778108, 'max_depth': 4, 'n_estimators': 53, 'reg_alpha': 0.09242722776276352, 'reg_lambda': 0.9695846277645586, 'subsample': 0.8875664116805573}\n",
            "Best Score: 0.9164529914529915\n",
            "Test Accuracy: 0.9277777777777778\n",
            "              precision    recall  f1-score   support\n",
            "\n",
            "           0       1.00      0.83      0.91        12\n",
            "           1       0.71      0.75      0.73        20\n",
            "           2       0.98      0.96      0.97        50\n",
            "           3       0.83      1.00      0.91        10\n",
            "           4       1.00      1.00      1.00        35\n",
            "           5       1.00      1.00      1.00        33\n",
            "           6       0.80      0.80      0.80        20\n",
            "\n",
            "    accuracy                           0.93       180\n",
            "   macro avg       0.90      0.91      0.90       180\n",
            "weighted avg       0.93      0.93      0.93       180\n",
            "\n"
          ]
        },
        {
          "output_type": "execute_result",
          "data": {
            "text/plain": [
              "<Axes: >"
            ]
          },
          "metadata": {},
          "execution_count": 24
        },
        {
          "output_type": "display_data",
          "data": {
            "text/plain": [
              "<Figure size 640x480 with 2 Axes>"
            ],
            "image/png": "[encoded data removed]"
          },
          "metadata": {}
        }
      ]
    },
    {
      "cell_type": "markdown",
      "source": [
        "Model Training"
      ],
      "metadata": {
        "id": "E5n8HdPounPS"
      }
    },
    {
      "cell_type": "code",
      "execution_count": null,
      "outputs": [],
      "source": [
        "# training and evaluating with test set\n",
        "models = [\n",
        "    [('RandomForest', RandomForestClassifier())],\n",
        "    [('SVC', SVC())],\n",
        "    [('MLP', MLPClassifier((64, 32, 16), max_iter=1000))]\n",
        "]\n",
        "\n",
        "results = []\n",
        "for model in models:\n",
        "  name = model[0][0]\n",
        "  model = model[0][1]\n",
        "\n",
        "  # model training\n",
        "  start_time = time.time()\n",
        "  model.fit(X_train, y_train)\n",
        "  y_pred = model.predict(X_test)\n",
        "  end_time = time.time()\n",
        "\n",
        "  cm = confusion_matrix(y_test, y_pred)\n",
        "  cr = classification_report(y_test, y_pred)\n",
        "  t = end_time - start_time\n",
        "\n",
        "  results.append((cm, cr, t))"
      ],
      "metadata": {
        "pycharm": {
          "name": "#%%\n"
        },
        "id": "3i8dngYrM89C"
      }
    },
    {
      "cell_type": "code",
      "source": [
        "# training and evaluating with training set used for overfitting test\n",
        "results_train = []\n",
        "for model in models:\n",
        "  name = model[0][0]\n",
        "  model = model[0][1]\n",
        "\n",
        "  # model training\n",
        "  model.fit(X_train, y_train)\n",
        "  y_train_pred = model.predict(X_train)\n",
        "\n",
        "  accuracy_train = accuracy_score(y_train, y_train_pred)\n",
        "  results_train.append(accuracy_train)"
      ],
      "metadata": {
        "id": "usaBgYBsERfP"
      },
      "execution_count": null,
      "outputs": []
    },
    {
      "cell_type": "code",
      "source": [
        "# result of linear SVC model\n",
        "start_time = time.time()\n",
        "svc_linear = SVC(kernel = 'linear').fit(X_train, y_train)\n",
        "y_pred_linear = svc_linear.predict(X_test)\n",
        "end_time = time.time()\n",
        "\n",
        "report_svc_linear = classification_report(y_test, y_pred_linear)\n",
        "t_svc_linear = end_time - start_time\n",
        "cm_svc_linear = confusion_matrix(y_test, y_pred_linear)"
      ],
      "metadata": {
        "id": "-GvSiJyQWqJk"
      },
      "execution_count": null,
      "outputs": []
    },
    {
      "cell_type": "markdown",
      "source": [
        "Results visualisations"
      ],
      "metadata": {
        "id": "xQ_jW7jfItdq"
      }
    },
    {
      "cell_type": "markdown",
      "source": [
        "Random Forest Classifier"
      ],
      "metadata": {
        "id": "Ok3zDvT0KACa"
      }
    },
    {
      "cell_type": "code",
      "source": [
        "print('Time consumed:', results[0][2])"
      ],
      "metadata": {
        "colab": {
          "base_uri": "https://localhost:8080/"
        },
        "id": "8ysNTcF06irn",
        "outputId": "368e6e8d-532a-4ce2-9c3a-c15398c50f53"
      },
      "execution_count": null,
      "outputs": [
        {
          "output_type": "stream",
          "name": "stdout",
          "text": [
            "Time consumed: 0.3501551151275635\n"
          ]
        }
      ]
    },
    {
      "cell_type": "code",
      "source": [
        "print(results[0][1])"
      ],
      "metadata": {
        "colab": {
          "base_uri": "https://localhost:8080/"
        },
        "id": "LaXOe70pJ1-G",
        "outputId": "9e6cf628-e038-4c3f-9e65-fca1acf096cc"
      },
      "execution_count": null,
      "outputs": [
        {
          "output_type": "stream",
          "name": "stdout",
          "text": [
            "              precision    recall  f1-score   support\n",
            "\n",
            "           0       0.89      0.67      0.76        12\n",
            "           1       0.71      0.85      0.77        20\n",
            "           2       1.00      0.94      0.97        50\n",
            "           3       0.69      0.90      0.78        10\n",
            "           4       1.00      0.97      0.99        35\n",
            "           5       1.00      1.00      1.00        33\n",
            "           6       0.80      0.80      0.80        20\n",
            "\n",
            "    accuracy                           0.91       180\n",
            "   macro avg       0.87      0.88      0.87       180\n",
            "weighted avg       0.92      0.91      0.91       180\n",
            "\n"
          ]
        }
      ]
    },
    {
      "cell_type": "code",
      "source": [
        "sns.heatmap(results[0][0], cmap='RdBu_r', annot=True)"
      ],
      "metadata": {
        "colab": {
          "base_uri": "https://localhost:8080/",
          "height": 447
        },
        "id": "mjbTv0aCJ3Jw",
        "outputId": "8f7076e4-8dc0-4d08-8f81-8648e5c92d9a"
      },
      "execution_count": null,
      "outputs": [
        {
          "output_type": "execute_result",
          "data": {
            "text/plain": [
              "<Axes: >"
            ]
          },
          "metadata": {},
          "execution_count": 30
        },
        {
          "output_type": "display_data",
          "data": {
            "text/plain": [
              "<Figure size 640x480 with 2 Axes>"
            ],
            "image/png": "[encoded data removed]"
          },
          "metadata": {}
        }
      ]
    },
    {
      "cell_type": "code",
      "source": [
        "print('The accuracy of y_train and prediction of X_train:', results_train[0])"
      ],
      "metadata": {
        "colab": {
          "base_uri": "https://localhost:8080/"
        },
        "id": "O6ibOCCjrp9X",
        "outputId": "56349f76-241e-4a6c-9c0d-14c88fa93dbc"
      },
      "execution_count": null,
      "outputs": [
        {
          "output_type": "stream",
          "name": "stdout",
          "text": [
            "The accuracy of y_train and prediction of X_train: 1.0\n"
          ]
        }
      ]
    },
    {
      "cell_type": "markdown",
      "source": [
        "Support Vector Classification"
      ],
      "metadata": {
        "id": "jKuGMIrEK8Xg"
      }
    },
    {
      "cell_type": "code",
      "source": [
        "print('Time consumed:', results[1][2])"
      ],
      "metadata": {
        "colab": {
          "base_uri": "https://localhost:8080/"
        },
        "id": "Ez2h7RawKIXC",
        "outputId": "0ca38af4-9279-4fd4-d243-7bc9a04c40bb"
      },
      "execution_count": null,
      "outputs": [
        {
          "output_type": "stream",
          "name": "stdout",
          "text": [
            "Time consumed: 0.014842987060546875\n"
          ]
        }
      ]
    },
    {
      "cell_type": "code",
      "source": [
        "print(results[1][1])"
      ],
      "metadata": {
        "colab": {
          "base_uri": "https://localhost:8080/"
        },
        "id": "N9wfPu1GKIUM",
        "outputId": "a3a3fdd1-7873-4c37-d5f1-b07b747dbe46"
      },
      "execution_count": null,
      "outputs": [
        {
          "output_type": "stream",
          "name": "stdout",
          "text": [
            "              precision    recall  f1-score   support\n",
            "\n",
            "           0       0.91      0.83      0.87        12\n",
            "           1       0.90      0.90      0.90        20\n",
            "           2       1.00      0.98      0.99        50\n",
            "           3       0.82      0.90      0.86        10\n",
            "           4       1.00      1.00      1.00        35\n",
            "           5       1.00      1.00      1.00        33\n",
            "           6       0.90      0.95      0.93        20\n",
            "\n",
            "    accuracy                           0.96       180\n",
            "   macro avg       0.93      0.94      0.93       180\n",
            "weighted avg       0.96      0.96      0.96       180\n",
            "\n"
          ]
        }
      ]
    },
    {
      "cell_type": "code",
      "source": [
        "sns.heatmap(results[1][0], cmap='RdBu_r', annot=True)"
      ],
      "metadata": {
        "colab": {
          "base_uri": "https://localhost:8080/",
          "height": 447
        },
        "id": "fsF9MPGkKIRG",
        "outputId": "ac5c332c-9092-47dc-975c-ed495c935910"
      },
      "execution_count": null,
      "outputs": [
        {
          "output_type": "execute_result",
          "data": {
            "text/plain": [
              "<Axes: >"
            ]
          },
          "metadata": {},
          "execution_count": 34
        },
        {
          "output_type": "display_data",
          "data": {
            "text/plain": [
              "<Figure size 640x480 with 2 Axes>"
            ],
            "image/png": "[encoded data removed]"
          },
          "metadata": {}
        }
      ]
    },
    {
      "cell_type": "code",
      "source": [
        "print('The accuracy of y_train and prediction of X_train:', results_train[1])"
      ],
      "metadata": {
        "colab": {
          "base_uri": "https://localhost:8080/"
        },
        "id": "ibAx8NmrryVx",
        "outputId": "49b6a097-935e-4bb8-c9e7-5f3af0bb32dc"
      },
      "execution_count": null,
      "outputs": [
        {
          "output_type": "stream",
          "name": "stdout",
          "text": [
            "The accuracy of y_train and prediction of X_train: 0.9442896935933147\n"
          ]
        }
      ]
    },
    {
      "cell_type": "markdown",
      "source": [
        "Linear SVC"
      ],
      "metadata": {
        "id": "7D4ZnknUr7at"
      }
    },
    {
      "cell_type": "code",
      "source": [
        "print('Time consumption of linear svc model:', t_svc_linear)"
      ],
      "metadata": {
        "colab": {
          "base_uri": "https://localhost:8080/"
        },
        "id": "d4Oaj-zRryTk",
        "outputId": "268b4564-fe5b-4446-f9f4-aa44b22616c2"
      },
      "execution_count": null,
      "outputs": [
        {
          "output_type": "stream",
          "name": "stdout",
          "text": [
            "Time consumption of linear svc model: 0.012333154678344727\n"
          ]
        }
      ]
    },
    {
      "cell_type": "code",
      "source": [
        "print(report_svc_linear)"
      ],
      "metadata": {
        "colab": {
          "base_uri": "https://localhost:8080/"
        },
        "id": "SlxY624Xr3K8",
        "outputId": "dbddb949-d156-48b1-81f0-e9e45e477851"
      },
      "execution_count": null,
      "outputs": [
        {
          "output_type": "stream",
          "name": "stdout",
          "text": [
            "              precision    recall  f1-score   support\n",
            "\n",
            "           0       0.92      0.92      0.92        12\n",
            "           1       0.72      0.90      0.80        20\n",
            "           2       1.00      0.94      0.97        50\n",
            "           3       0.90      0.90      0.90        10\n",
            "           4       1.00      0.97      0.99        35\n",
            "           5       1.00      1.00      1.00        33\n",
            "           6       0.84      0.80      0.82        20\n",
            "\n",
            "    accuracy                           0.93       180\n",
            "   macro avg       0.91      0.92      0.91       180\n",
            "weighted avg       0.94      0.93      0.94       180\n",
            "\n"
          ]
        }
      ]
    },
    {
      "cell_type": "code",
      "source": [
        "sns.heatmap(cm_svc_linear, cmap='RdBu_r', annot=True)"
      ],
      "metadata": {
        "colab": {
          "base_uri": "https://localhost:8080/",
          "height": 447
        },
        "id": "AAsm4rz8xg3k",
        "outputId": "7b4cfd4b-71b1-4962-845d-54e4715f2482"
      },
      "execution_count": null,
      "outputs": [
        {
          "output_type": "execute_result",
          "data": {
            "text/plain": [
              "<Axes: >"
            ]
          },
          "metadata": {},
          "execution_count": 38
        },
        {
          "output_type": "display_data",
          "data": {
            "text/plain": [
              "<Figure size 640x480 with 2 Axes>"
            ],
            "image/png": "[encoded data removed]"
          },
          "metadata": {}
        }
      ]
    },
    {
      "cell_type": "markdown",
      "source": [
        "Multilayer perceptron"
      ],
      "metadata": {
        "id": "cR4hn-fsP-nz"
      }
    },
    {
      "cell_type": "code",
      "source": [
        "print('Time consumed:', results[2][2])"
      ],
      "metadata": {
        "colab": {
          "base_uri": "https://localhost:8080/"
        },
        "id": "Ll-v7aIBKH-A",
        "outputId": "dfd5805c-d18d-4f42-c961-5c3a5fcfdaab"
      },
      "execution_count": null,
      "outputs": [
        {
          "output_type": "stream",
          "name": "stdout",
          "text": [
            "Time consumed: 4.500519037246704\n"
          ]
        }
      ]
    },
    {
      "cell_type": "code",
      "source": [
        "print(results[2][1])"
      ],
      "metadata": {
        "colab": {
          "base_uri": "https://localhost:8080/"
        },
        "id": "YQlns6o9KH30",
        "outputId": "f4d4bb03-e45a-4c42-fcd5-ad4135e23953"
      },
      "execution_count": null,
      "outputs": [
        {
          "output_type": "stream",
          "name": "stdout",
          "text": [
            "              precision    recall  f1-score   support\n",
            "\n",
            "           0       0.92      1.00      0.96        12\n",
            "           1       0.86      0.90      0.88        20\n",
            "           2       1.00      1.00      1.00        50\n",
            "           3       1.00      0.90      0.95        10\n",
            "           4       1.00      1.00      1.00        35\n",
            "           5       1.00      1.00      1.00        33\n",
            "           6       0.89      0.85      0.87        20\n",
            "\n",
            "    accuracy                           0.97       180\n",
            "   macro avg       0.95      0.95      0.95       180\n",
            "weighted avg       0.97      0.97      0.97       180\n",
            "\n"
          ]
        }
      ]
    },
    {
      "cell_type": "code",
      "source": [
        "sns.heatmap(results[2][0], cmap='RdBu_r', annot=True)"
      ],
      "metadata": {
        "colab": {
          "base_uri": "https://localhost:8080/",
          "height": 452
        },
        "id": "1Wa9nmu_KHwi",
        "outputId": "1e731b91-9287-4eba-b127-276ed72a7643"
      },
      "execution_count": null,
      "outputs": [
        {
          "output_type": "execute_result",
          "data": {
            "text/plain": [
              "<Axes: >"
            ]
          },
          "metadata": {},
          "execution_count": 41
        },
        {
          "output_type": "display_data",
          "data": {
            "text/plain": [
              "<Figure size 640x480 with 2 Axes>"
            ],
            "image/png": "[encoded data removed]"
          },
          "metadata": {}
        }
      ]
    },
    {
      "cell_type": "code",
      "source": [
        "print('The accuracy of y_train and prediction of X_train:', results_train[2])"
      ],
      "metadata": {
        "colab": {
          "base_uri": "https://localhost:8080/"
        },
        "id": "rUy0Hp69sBm7",
        "outputId": "26eac7cc-e386-44de-fa73-35b6d17efdec"
      },
      "execution_count": null,
      "outputs": [
        {
          "output_type": "stream",
          "name": "stdout",
          "text": [
            "The accuracy of y_train and prediction of X_train: 1.0\n"
          ]
        }
      ]
    },
    {
      "cell_type": "markdown",
      "source": [
        "Decision Tree"
      ],
      "metadata": {
        "id": "6oUd0sgMx7Z_"
      }
    },
    {
      "cell_type": "code",
      "source": [
        "#DT\n",
        "dt = DecisionTreeClassifier(criterion='entropy',max_depth=7,random_state=42)\n",
        "start = time.time()\n",
        "dt.fit(X_train, y_train)\n",
        "test_pred = dt.predict(X_test)\n",
        "end = time.time()\n",
        "dt_train_time = end - start\n",
        "test_acc = accuracy_score(y_test,test_pred)\n",
        "\n",
        "print(\"Decision Tree\")\n",
        "print(\"Time consumed:\", dt_train_time)\n",
        "print('Test Accuracy:', test_acc)\n",
        "print(classification_report(y_test, dt.predict(X_test)))\n",
        "sns.heatmap(confusion_matrix(y_test,dt.predict(X_test)),annot=True, cmap='RdBu_r')"
      ],
      "metadata": {
        "colab": {
          "base_uri": "https://localhost:8080/",
          "height": 742
        },
        "id": "Rt9tdLjGx5cN",
        "outputId": "25d31bd5-2a63-418b-9fa3-240311268625"
      },
      "execution_count": null,
      "outputs": [
        {
          "output_type": "stream",
          "name": "stdout",
          "text": [
            "Decision Tree\n",
            "Time consumed: 0.03326988220214844\n",
            "Test Accuracy: 0.85\n",
            "              precision    recall  f1-score   support\n",
            "\n",
            "           0       0.57      0.67      0.62        12\n",
            "           1       0.76      0.65      0.70        20\n",
            "           2       0.92      0.98      0.95        50\n",
            "           3       0.80      0.80      0.80        10\n",
            "           4       0.86      0.86      0.86        35\n",
            "           5       1.00      0.97      0.98        33\n",
            "           6       0.68      0.65      0.67        20\n",
            "\n",
            "    accuracy                           0.85       180\n",
            "   macro avg       0.80      0.80      0.80       180\n",
            "weighted avg       0.85      0.85      0.85       180\n",
            "\n"
          ]
        },
        {
          "output_type": "execute_result",
          "data": {
            "text/plain": [
              "<Axes: >"
            ]
          },
          "metadata": {},
          "execution_count": 43
        },
        {
          "output_type": "display_data",
          "data": {
            "text/plain": [
              "<Figure size 640x480 with 2 Axes>"
            ],
            "image/png": "[encoded data removed]"
          },
          "metadata": {}
        }
      ]
    },
    {
      "cell_type": "code",
      "source": [
        "# overfitting test\n",
        "train_pred = dt.predict(X_train)\n",
        "train_acc = accuracy_score(y_train,train_pred)\n",
        "print('The accuracy of y_train and prediction of X_train:', train_acc)\n",
        "print(classification_report(y_train, train_pred))"
      ],
      "metadata": {
        "colab": {
          "base_uri": "https://localhost:8080/"
        },
        "id": "4q8ph-1xx5Z_",
        "outputId": "605a304c-11ea-42d6-b5f2-4b0a9275aa71"
      },
      "execution_count": null,
      "outputs": [
        {
          "output_type": "stream",
          "name": "stdout",
          "text": [
            "The accuracy of y_train and prediction of X_train: 0.9832869080779945\n",
            "              precision    recall  f1-score   support\n",
            "\n",
            "           0       0.89      0.92      0.91        53\n",
            "           1       1.00      0.99      0.99        78\n",
            "           2       0.99      1.00      1.00       154\n",
            "           3       0.93      0.92      0.93        62\n",
            "           4       1.00      1.00      1.00       131\n",
            "           5       1.00      1.00      1.00       166\n",
            "           6       0.99      0.97      0.98        74\n",
            "\n",
            "    accuracy                           0.98       718\n",
            "   macro avg       0.97      0.97      0.97       718\n",
            "weighted avg       0.98      0.98      0.98       718\n",
            "\n"
          ]
        }
      ]
    },
    {
      "cell_type": "markdown",
      "source": [
        "XGBoost"
      ],
      "metadata": {
        "id": "d4u52_Zjylj6"
      }
    },
    {
      "cell_type": "code",
      "source": [
        "#XGBoost\n",
        "xgb = XGBClassifier()\n",
        "start = time.time()\n",
        "xgb.fit(X_train, y_train)\n",
        " \n",
        "test_pred = xgb.predict(X_test)\n",
        "end = time.time()\n",
        "xgb_train_time = end - start\n",
        "test_acc = accuracy_score(y_test,test_pred)\n",
        "\n",
        "print(\"XGBoost\")\n",
        "print(\"Time consumed:\", xgb_train_time)\n",
        "print('Test Accuracy:', test_acc)\n",
        "print(classification_report(y_test, xgb.predict(X_test)))\n",
        "sns.heatmap(confusion_matrix(y_test,xgb.predict(X_test)), cmap='RdBu_r', annot=True)"
      ],
      "metadata": {
        "colab": {
          "base_uri": "https://localhost:8080/",
          "height": 742
        },
        "id": "j3HzqaD1x5Xy",
        "outputId": "b44e2c83-5592-48b6-ddc8-8cf37a1b0d80"
      },
      "execution_count": null,
      "outputs": [
        {
          "output_type": "stream",
          "name": "stdout",
          "text": [
            "XGBoost\n",
            "Time consumed: 0.8075473308563232\n",
            "Test Accuracy: 0.9388888888888889\n",
            "              precision    recall  f1-score   support\n",
            "\n",
            "           0       1.00      0.75      0.86        12\n",
            "           1       0.77      0.85      0.81        20\n",
            "           2       1.00      0.96      0.98        50\n",
            "           3       0.77      1.00      0.87        10\n",
            "           4       1.00      1.00      1.00        35\n",
            "           5       1.00      1.00      1.00        33\n",
            "           6       0.85      0.85      0.85        20\n",
            "\n",
            "    accuracy                           0.94       180\n",
            "   macro avg       0.91      0.92      0.91       180\n",
            "weighted avg       0.95      0.94      0.94       180\n",
            "\n"
          ]
        },
        {
          "output_type": "execute_result",
          "data": {
            "text/plain": [
              "<Axes: >"
            ]
          },
          "metadata": {},
          "execution_count": 45
        },
        {
          "output_type": "display_data",
          "data": {
            "text/plain": [
              "<Figure size 640x480 with 2 Axes>"
            ],
            "image/png": "[encoded data removed]"
          },
          "metadata": {}
        }
      ]
    },
    {
      "cell_type": "code",
      "source": [
        "# overfitting test\n",
        "train_pred = xgb.predict(X_train)\n",
        "train_acc = accuracy_score(y_train,train_pred)\n",
        "print('The accuracy of y_train and prediction of X_train:', train_acc)"
      ],
      "metadata": {
        "colab": {
          "base_uri": "https://localhost:8080/"
        },
        "id": "X4JicYYVx5Vv",
        "outputId": "6ea6b5f0-338a-4b7a-db1e-0725a4bae177"
      },
      "execution_count": null,
      "outputs": [
        {
          "output_type": "stream",
          "name": "stdout",
          "text": [
            "The accuracy of y_train and prediction of X_train: 1.0\n"
          ]
        }
      ]
    },
    {
      "cell_type": "markdown",
      "source": [
        "Logistic Regression"
      ],
      "metadata": {
        "id": "TXuizQAly_DQ"
      }
    },
    {
      "cell_type": "code",
      "source": [
        "#Model Training\n",
        "logr = LogisticRegression(C=1,max_iter=1000,multi_class='auto')\n",
        "start_time = time.time()\n",
        "logr.fit(X_train,y_train)\n",
        "logpred = logr.predict(X_test)\n",
        "end_time = time.time()\n",
        "time_consumed = end_time - start_time\n",
        "print('Logistic Regression' + '\\n')\n",
        "print('Time consumed:',time_consumed)\n",
        "print(classification_report(y_test,logpred))\n",
        "sns.heatmap(confusion_matrix(y_test,logpred), cmap='RdBu_r', annot=True)"
      ],
      "metadata": {
        "colab": {
          "base_uri": "https://localhost:8080/",
          "height": 747
        },
        "id": "rb5D6visx5Tj",
        "outputId": "1d68d465-35ee-4e6b-8e37-98841646f904"
      },
      "execution_count": null,
      "outputs": [
        {
          "output_type": "stream",
          "name": "stdout",
          "text": [
            "Logistic Regression\n",
            "\n",
            "Time consumed: 0.06933736801147461\n",
            "              precision    recall  f1-score   support\n",
            "\n",
            "           0       0.92      0.92      0.92        12\n",
            "           1       0.86      0.90      0.88        20\n",
            "           2       1.00      1.00      1.00        50\n",
            "           3       0.90      0.90      0.90        10\n",
            "           4       1.00      1.00      1.00        35\n",
            "           5       1.00      1.00      1.00        33\n",
            "           6       0.89      0.85      0.87        20\n",
            "\n",
            "    accuracy                           0.96       180\n",
            "   macro avg       0.94      0.94      0.94       180\n",
            "weighted avg       0.96      0.96      0.96       180\n",
            "\n"
          ]
        },
        {
          "output_type": "execute_result",
          "data": {
            "text/plain": [
              "<Axes: >"
            ]
          },
          "metadata": {},
          "execution_count": 47
        },
        {
          "output_type": "display_data",
          "data": {
            "text/plain": [
              "<Figure size 640x480 with 2 Axes>"
            ],
            "image/png": "[encoded data removed]"
          },
          "metadata": {}
        }
      ]
    },
    {
      "cell_type": "code",
      "source": [
        "# overfitting test\n",
        "logpred_train = logr.predict(X_train)\n",
        "acc_lr = accuracy_score(y_train, logpred_train)\n",
        "print('The accuracy of y_train and prediction of X_train:', acc_lr)"
      ],
      "metadata": {
        "colab": {
          "base_uri": "https://localhost:8080/"
        },
        "id": "GHM35VfPx5RW",
        "outputId": "281d0ef8-f8ea-4b88-9754-0c940c38d6cf"
      },
      "execution_count": null,
      "outputs": [
        {
          "output_type": "stream",
          "name": "stdout",
          "text": [
            "The accuracy of y_train and prediction of X_train: 0.9610027855153204\n"
          ]
        }
      ]
    },
    {
      "cell_type": "markdown",
      "source": [
        "K-nearest Neighbor"
      ],
      "metadata": {
        "id": "U0esJUZ2zOgl"
      }
    },
    {
      "cell_type": "code",
      "source": [
        "#KNN\n",
        "err_rate = [] # Array to save all error rates\n",
        "\n",
        "for i in range(1,40): # loop to try all error rates from 1 to 40\n",
        "    knn = KNeighborsClassifier(n_neighbors=i) # create a knn object with number of neighbours with value i\n",
        "    knn.fit(X_train,y_train) # fit the model\n",
        "    pred_i = knn.predict(X_test) # predict the value\n",
        "    err_rate.append(np.mean(pred_i != y_test)) #add the value to the array\n",
        "\n",
        "knn = KNeighborsClassifier(n_neighbors=4,p=2,n_jobs=-1)\n",
        "start_time = time.time()\n",
        "knn.fit(X_train,y_train)\n",
        "knnpred = knn.predict(X_test)\n",
        "end_time = time.time()\n",
        "time_consumed = end_time - start_time\n",
        "print('Time consumed:',time_consumed)\n",
        "print('KNN Classifier' + '\\n')\n",
        "print(classification_report(y_test,knnpred))\n",
        "sns.heatmap(confusion_matrix(y_test,knnpred), cmap='RdBu_r', annot=True)"
      ],
      "metadata": {
        "colab": {
          "base_uri": "https://localhost:8080/",
          "height": 742
        },
        "id": "FXPS6nM8x5PB",
        "outputId": "3d6b4857-7e7c-4c00-a1f3-14799995e6a4"
      },
      "execution_count": null,
      "outputs": [
        {
          "output_type": "stream",
          "name": "stdout",
          "text": [
            "Time consumed: 0.011693239212036133\n",
            "KNN Classifier\n",
            "\n",
            "              precision    recall  f1-score   support\n",
            "\n",
            "           0       0.79      0.92      0.85        12\n",
            "           1       0.80      1.00      0.89        20\n",
            "           2       1.00      0.96      0.98        50\n",
            "           3       0.88      0.70      0.78        10\n",
            "           4       0.97      1.00      0.99        35\n",
            "           5       1.00      1.00      1.00        33\n",
            "           6       1.00      0.80      0.89        20\n",
            "\n",
            "    accuracy                           0.94       180\n",
            "   macro avg       0.92      0.91      0.91       180\n",
            "weighted avg       0.95      0.94      0.94       180\n",
            "\n"
          ]
        },
        {
          "output_type": "execute_result",
          "data": {
            "text/plain": [
              "<Axes: >"
            ]
          },
          "metadata": {},
          "execution_count": 49
        },
        {
          "output_type": "display_data",
          "data": {
            "text/plain": [
              "<Figure size 640x480 with 2 Axes>"
            ],
            "image/png": "[encoded data removed]"
          },
          "metadata": {}
        }
      ]
    },
    {
      "cell_type": "code",
      "source": [
        "# overfitting test\n",
        "knnpred_train = knn.predict(X_train)\n",
        "acc_knn = accuracy_score(y_train, logpred_train)\n",
        "print('The accuracy of y_train and prediction of X_train:', acc_knn)"
      ],
      "metadata": {
        "colab": {
          "base_uri": "https://localhost:8080/"
        },
        "id": "rTMn6Unhx5LP",
        "outputId": "f4867200-2b2a-4b81-f1ba-e76f8b158de9"
      },
      "execution_count": null,
      "outputs": [
        {
          "output_type": "stream",
          "name": "stdout",
          "text": [
            "The accuracy of y_train and prediction of X_train: 0.9610027855153204\n"
          ]
        }
      ]
    }
  ],
  "metadata": {
    "kernelspec": {
      "display_name": "Python 3",
      "language": "python",
      "name": "python3"
    },
    "language_info": {
      "codemirror_mode": {
        "name": "ipython",
        "version": 2
      },
      "file_extension": ".py",
      "mimetype": "text/x-python",
      "name": "python",
      "nbconvert_exporter": "python",
      "pygments_lexer": "ipython2",
      "version": "2.7.6"
    },
    "colab": {
      "provenance": []
    }
  },
  "nbformat": 4,
  "nbformat_minor": 0
}